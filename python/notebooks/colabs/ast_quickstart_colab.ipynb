{
  "cells": [
    {
      "cell_type": "code",
      "execution_count": null,
      "metadata": {
        "colab": {
          "base_uri": "https://localhost:8080/"
        },
        "id": "iT8gCxTmYgo1",
        "outputId": "d1080489-9815-4d88-acab-beb884197102"
      },
      "outputs": [],
      "source": [
        "!git clone --branch main --single-branch https://github.com/ValenSaZu/AST-Transformer.git /content/AST-Transformer"
      ]
    },
    {
      "cell_type": "code",
      "execution_count": null,
      "metadata": {
        "colab": {
          "base_uri": "https://localhost:8080/"
        },
        "id": "t9C8AUQLY756",
        "outputId": "6166bad3-cdb4-4c52-cc51-f7d705e9f937"
      },
      "outputs": [],
      "source": [
        "!apt-get -y update -qq\n",
        "!apt-get -y install -qq unar unrar p7zip-full"
      ]
    },
    {
      "cell_type": "code",
      "execution_count": null,
      "metadata": {
        "colab": {
          "base_uri": "https://localhost:8080/"
        },
        "id": "QYT9j-Waf2Gf",
        "outputId": "73b5b9a7-eb10-4591-f08c-b9f26ae8c053"
      },
      "outputs": [],
      "source": [
        "# Descarga a /content/melaudis/raw y extrae a /content/melaudis/wav\n",
        "import os, requests, glob, zipfile, subprocess\n",
        "\n",
        "ART_ID = 27115870\n",
        "ROOT = \"/content/melaudis\"; RAW=f\"{ROOT}/raw\"; WAV=f\"{ROOT}/wav\"\n",
        "os.makedirs(RAW, exist_ok=True); os.makedirs(WAV, exist_ok=True)\n",
        "\n",
        "# 1) listar y bajar archivos del artículo\n",
        "meta = requests.get(f\"https://api.figshare.com/v2/articles/{ART_ID}\").json()\n",
        "files = meta.get(\"files\", [])\n",
        "print(f\"{len(files)} archivos en Figshare\")\n",
        "\n",
        "for f in files:\n",
        "    url, name = f[\"download_url\"], f[\"name\"]\n",
        "    out = f\"{RAW}/{name}\"\n",
        "    if os.path.exists(out):\n",
        "        print(\"✓ ya existe:\", name); continue\n",
        "    print(\"↓\", name)\n",
        "    with requests.get(url, stream=True) as r, open(out, \"wb\") as w:\n",
        "        r.raise_for_status()\n",
        "        for ch in r.iter_content(1024*1024):\n",
        "            if ch: w.write(ch)\n",
        "\n",
        "# 2) extraer .rar (usar 'unar' / 'unrar'); si hubiera .zip, también se extraen\n",
        "for rar in glob.glob(f\"{RAW}/*.rar\"):\n",
        "    print(\"Extract:\", os.path.basename(rar))\n",
        "    # intenta con unar; si falla, usa unrar\n",
        "    res = subprocess.run([\"unar\",\"-force-overwrite\",\"-o\",WAV,rar])\n",
        "    if res.returncode != 0:\n",
        "        subprocess.run([\"unrar\",\"x\",\"-o+\",\"-y\",rar,WAV+\"/\"], check=True)\n",
        "\n",
        "for z in glob.glob(f\"{RAW}/*.zip\"):\n",
        "    print(\"Unzip:\", os.path.basename(z))\n",
        "    with zipfile.ZipFile(z) as zf:\n",
        "        zf.extractall(WAV)\n",
        "\n",
        "# 3) conteo rápido\n",
        "wavs = glob.glob(f\"{WAV}/**/*.wav\", recursive=True) + glob.glob(f\"{WAV}/**/*.WAV\", recursive=True)\n",
        "print(\"WAVs encontrados:\", len(wavs))\n",
        "print(\"Ejemplos:\", wavs[:3])"
      ]
    },
    {
      "cell_type": "code",
      "execution_count": null,
      "metadata": {},
      "outputs": [],
      "source": [
        "%cd /content/AST-Transformer/AST-Transformer\n",
        "%pip install -q -r python/requirements.txt"
      ]
    },
    {
      "cell_type": "code",
      "execution_count": null,
      "metadata": {},
      "outputs": [],
      "source": [
        "PYTHONPATH=$PWD python scripts/make_mels.py \\\n",
        "  --src /content/melaudis/wav \\\n",
        "  --dst /content/melaudis/processed \\\n",
        "  --durationSec 2.0 \\\n",
        "  --normalize peak \\\n",
        "  --targetNumFrames 256 \\\n",
        "  --patch 16"
      ]
    }
  ],
  "metadata": {
    "accelerator": "GPU",
    "colab": {
      "gpuType": "T4",
      "provenance": []
    },
    "kernelspec": {
      "display_name": "Python 3",
      "name": "python3"
    },
    "language_info": {
      "name": "python"
    }
  },
  "nbformat": 4,
  "nbformat_minor": 0
}
